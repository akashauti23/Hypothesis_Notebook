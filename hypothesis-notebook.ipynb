{
 "cells": [
  {
   "cell_type": "markdown",
   "id": "3c05c2b5",
   "metadata": {
    "_cell_guid": "b1076dfc-b9ad-4769-8c92-a6c4dae69d19",
    "_uuid": "8f2839f25d086af736a60e9eeb907d3b93b6e0e5",
    "papermill": {
     "duration": 0.007572,
     "end_time": "2022-11-10T12:35:01.244549",
     "exception": false,
     "start_time": "2022-11-10T12:35:01.236977",
     "status": "completed"
    },
    "tags": []
   },
   "source": [
    "# Hypothesis testing"
   ]
  },
  {
   "cell_type": "markdown",
   "id": "c6cc047a",
   "metadata": {
    "papermill": {
     "duration": 0.006931,
     "end_time": "2022-11-10T12:35:01.258481",
     "exception": false,
     "start_time": "2022-11-10T12:35:01.251550",
     "status": "completed"
    },
    "tags": []
   },
   "source": [
    "\n",
    "* Hypothesis is the way to predit the relatin between two or more variables by studying past behavior.\n",
    "\n",
    "* for considering the past data we need to make some possible outcomes which are called as null hypothesis and is denoted by h0.\n",
    "\n",
    "* An counter consideration made on null hypothesis is denoted as ha which is complletely opposite to h0.\n",
    "\n",
    "* The hypothesis-testing procedure involves using sample data to determine whether or not H0 can be rejected. \n",
    "\n",
    "*  If H0 is rejected, the statistical conclusion is that the alternative hypothesis Ha is true.\n",
    "\n",
    "* Types of Hypothesis test is :\n",
    "1.Z-Test\n",
    "<br>\n",
    "2.T-Test\n",
    "<br>\n",
    "3.Chi-square Test\n",
    "<br>\n",
    "4.Anova Test\n"
   ]
  },
  {
   "cell_type": "markdown",
   "id": "e7a47fe3",
   "metadata": {
    "papermill": {
     "duration": 0.006658,
     "end_time": "2022-11-10T12:35:01.272256",
     "exception": false,
     "start_time": "2022-11-10T12:35:01.265598",
     "status": "completed"
    },
    "tags": []
   },
   "source": [
    "# Steps of conducting hypothesis test.\n",
    "1.     The first step is for the analyst to state the two hypotheses so that only one can be right.\n",
    "    \n",
    "1.     The next step is to formulate an analysis plan, which outlines how the data will be evaluated.\n",
    "    \n",
    "1.     The third step is to carry out the plan and physically analyze the sample data.\n",
    "    \n",
    "1.     The fourth and final step is to analyze the results and either reject the null hypothesis, or state that the null hypothesis is plausible, given the data.\n"
   ]
  },
  {
   "cell_type": "markdown",
   "id": "55156e87",
   "metadata": {
    "papermill": {
     "duration": 0.006463,
     "end_time": "2022-11-10T12:35:01.285466",
     "exception": false,
     "start_time": "2022-11-10T12:35:01.279003",
     "status": "completed"
    },
    "tags": []
   },
   "source": [
    "# Import Libraries"
   ]
  },
  {
   "cell_type": "code",
   "execution_count": 1,
   "id": "674a5996",
   "metadata": {
    "execution": {
     "iopub.execute_input": "2022-11-10T12:35:01.301191Z",
     "iopub.status.busy": "2022-11-10T12:35:01.300578Z",
     "iopub.status.idle": "2022-11-10T12:35:02.672170Z",
     "shell.execute_reply": "2022-11-10T12:35:02.670001Z"
    },
    "papermill": {
     "duration": 1.38272,
     "end_time": "2022-11-10T12:35:02.674877",
     "exception": false,
     "start_time": "2022-11-10T12:35:01.292157",
     "status": "completed"
    },
    "tags": []
   },
   "outputs": [],
   "source": [
    "import seaborn as sns\n",
    "import pandas as pd\n",
    "import numpy as np\n",
    "import matplotlib.pyplot as plt\n",
    "from scipy import stats\n",
    "import warnings\n",
    "warnings.filterwarnings('ignore') # impoting warning so that even if some issue occured in plotting the warining should not be visible in between the run.\n",
    "from statsmodels.stats.weightstats import ztest as ztest"
   ]
  },
  {
   "cell_type": "markdown",
   "id": "2930c1bc",
   "metadata": {
    "papermill": {
     "duration": 0.007895,
     "end_time": "2022-11-10T12:35:02.690848",
     "exception": false,
     "start_time": "2022-11-10T12:35:02.682953",
     "status": "completed"
    },
    "tags": []
   },
   "source": [
    "# 1. T-Test"
   ]
  },
  {
   "cell_type": "markdown",
   "id": "499dd257",
   "metadata": {
    "papermill": {
     "duration": 0.007179,
     "end_time": "2022-11-10T12:35:02.705755",
     "exception": false,
     "start_time": "2022-11-10T12:35:02.698576",
     "status": "completed"
    },
    "tags": []
   },
   "source": [
    "1. This test is conducted between two numerical variables.\n",
    "2. As this test is basically conducted to measure the acceptablity of h0 and ha\n",
    "3. in order to do so, we must have p value. which explains the relatability of two variables on each other.\n",
    "4. The p-value is a number, calculated from a statistical test, that describes how likely you are to have found a particular set of observations if the null hypothesis were true.(Mainly if the P > alpha value which in most cases is 0.05, we reject the null hypothesis and consider that)"
   ]
  },
  {
   "cell_type": "code",
   "execution_count": 2,
   "id": "bdcaecbb",
   "metadata": {
    "execution": {
     "iopub.execute_input": "2022-11-10T12:35:02.722356Z",
     "iopub.status.busy": "2022-11-10T12:35:02.721913Z",
     "iopub.status.idle": "2022-11-10T12:35:02.728596Z",
     "shell.execute_reply": "2022-11-10T12:35:02.727343Z"
    },
    "papermill": {
     "duration": 0.017076,
     "end_time": "2022-11-10T12:35:02.730438",
     "exception": false,
     "start_time": "2022-11-10T12:35:02.713362",
     "status": "completed"
    },
    "tags": []
   },
   "outputs": [],
   "source": [
    "def plot_distribution_hist_mean(inpt, title):\n",
    "    plt.figure()\n",
    "    ax = sns.distplot(inpt)\n",
    "    plt.axvline(np.mean(inpt), color='k', linestyle='dashed', linewidth=5)\n",
    "    _, max_ = plt.ylim()\n",
    "    plt.text(\n",
    "    inpt.mean() + inpt.mean()/10,\n",
    "    max_ - max_/10,\n",
    "    \"mean : {:.2f}\".format(inpt.mean())\n",
    "     )\n",
    "    plt.title(title)\n",
    "    return plt.figure"
   ]
  },
  {
   "cell_type": "code",
   "execution_count": 3,
   "id": "b863f6ad",
   "metadata": {
    "execution": {
     "iopub.execute_input": "2022-11-10T12:35:02.747879Z",
     "iopub.status.busy": "2022-11-10T12:35:02.747519Z",
     "iopub.status.idle": "2022-11-10T12:35:02.754227Z",
     "shell.execute_reply": "2022-11-10T12:35:02.752259Z"
    },
    "papermill": {
     "duration": 0.018818,
     "end_time": "2022-11-10T12:35:02.756758",
     "exception": false,
     "start_time": "2022-11-10T12:35:02.737940",
     "status": "completed"
    },
    "tags": []
   },
   "outputs": [],
   "source": [
    "def t_test(arr_1, arr_2, alpha=0.05):\n",
    "    print(stats.ttest_ind(arr_1, arr_2))\n",
    "    stat, p_value = stats.ttest_ind(arr_1, arr_2)\n",
    "\n",
    "    if p_value>alpha:\n",
    "        print(\"Same distribution ( accept H0 )\")\n",
    "    else:\n",
    "        print(\"Different distribution ( reject H0 )\")"
   ]
  },
  {
   "cell_type": "code",
   "execution_count": 4,
   "id": "c8983b57",
   "metadata": {
    "execution": {
     "iopub.execute_input": "2022-11-10T12:35:02.774055Z",
     "iopub.status.busy": "2022-11-10T12:35:02.773703Z",
     "iopub.status.idle": "2022-11-10T12:35:02.798464Z",
     "shell.execute_reply": "2022-11-10T12:35:02.797670Z"
    },
    "papermill": {
     "duration": 0.036307,
     "end_time": "2022-11-10T12:35:02.800658",
     "exception": false,
     "start_time": "2022-11-10T12:35:02.764351",
     "status": "completed"
    },
    "tags": []
   },
   "outputs": [],
   "source": [
    "ger_sales=np.load(\"../input/hypothesis-testing1/germany_sales.npy\")\n",
    "far_sales=np.load(\"../input/hypothesis-testing1/france_sales.npy\")"
   ]
  },
  {
   "cell_type": "code",
   "execution_count": 5,
   "id": "a09c0327",
   "metadata": {
    "execution": {
     "iopub.execute_input": "2022-11-10T12:35:02.817186Z",
     "iopub.status.busy": "2022-11-10T12:35:02.816029Z",
     "iopub.status.idle": "2022-11-10T12:35:03.238141Z",
     "shell.execute_reply": "2022-11-10T12:35:03.236646Z"
    },
    "papermill": {
     "duration": 0.433142,
     "end_time": "2022-11-10T12:35:03.240820",
     "exception": false,
     "start_time": "2022-11-10T12:35:02.807678",
     "status": "completed"
    },
    "tags": []
   },
   "outputs": [
    {
     "data": {
      "text/plain": [
       "<function matplotlib.pyplot.figure(num=None, figsize=None, dpi=None, facecolor=None, edgecolor=None, frameon=True, FigureClass=<class 'matplotlib.figure.Figure'>, clear=False, **kwargs)>"
      ]
     },
     "execution_count": 5,
     "metadata": {},
     "output_type": "execute_result"
    },
    {
     "data": {
      "image/png": "[encoded data removed]",
      "text/plain": [
       "<Figure size 432x288 with 1 Axes>"
      ]
     },
     "metadata": {
      "needs_background": "light"
     },
     "output_type": "display_data"
    },
    {
     "data": {
      "image/png": "[encoded data removed]",
      "text/plain": [
       "<Figure size 432x288 with 1 Axes>"
      ]
     },
     "metadata": {
      "needs_background": "light"
     },
     "output_type": "display_data"
    }
   ],
   "source": [
    "plot_distribution_hist_mean(ger_sales,\"Germany Sales\")\n",
    "plot_distribution_hist_mean(far_sales,\"France Sales\")"
   ]
  },
  {
   "cell_type": "code",
   "execution_count": 6,
   "id": "91f6854d",
   "metadata": {
    "execution": {
     "iopub.execute_input": "2022-11-10T12:35:03.258629Z",
     "iopub.status.busy": "2022-11-10T12:35:03.258271Z",
     "iopub.status.idle": "2022-11-10T12:35:03.267629Z",
     "shell.execute_reply": "2022-11-10T12:35:03.265747Z"
    },
    "papermill": {
     "duration": 0.021389,
     "end_time": "2022-11-10T12:35:03.270150",
     "exception": false,
     "start_time": "2022-11-10T12:35:03.248761",
     "status": "completed"
    },
    "tags": []
   },
   "outputs": [
    {
     "name": "stdout",
     "output_type": "stream",
     "text": [
      "Ttest_indResult(statistic=7.401250878526029, pvalue=6.861882182135869e-11)\n",
      "Different distribution ( reject H0 )\n"
     ]
    }
   ],
   "source": [
    "t_test(ger_sales,far_sales)"
   ]
  },
  {
   "cell_type": "markdown",
   "id": "ac4018cd",
   "metadata": {
    "papermill": {
     "duration": 0.00772,
     "end_time": "2022-11-10T12:35:03.286828",
     "exception": false,
     "start_time": "2022-11-10T12:35:03.279108",
     "status": "completed"
    },
    "tags": []
   },
   "source": [
    "Conclusion :-\n",
    "* It is good to have low P-values.\n",
    "* A P-value is referred to as the probability that the outcomes from the sample data happened coincidentally.\n",
    "* If the pvalue is more than alpha null hypotheiss is accepted\n",
    "\n",
    "* If the statistics is between standard deviation than null hypotheiss is accepted\n"
   ]
  },
  {
   "cell_type": "markdown",
   "id": "26dfd745",
   "metadata": {
    "papermill": {
     "duration": 0.009796,
     "end_time": "2022-11-10T12:35:03.306731",
     "exception": false,
     "start_time": "2022-11-10T12:35:03.296935",
     "status": "completed"
    },
    "tags": []
   },
   "source": [
    "# 2. Anova-Test"
   ]
  },
  {
   "cell_type": "markdown",
   "id": "b31e36b9",
   "metadata": {
    "papermill": {
     "duration": 0.007534,
     "end_time": "2022-11-10T12:35:03.322301",
     "exception": false,
     "start_time": "2022-11-10T12:35:03.314767",
     "status": "completed"
    },
    "tags": []
   },
   "source": [
    "* An Anovaa test is a type of statistical test used to determine if there is a statistically significant difference between two or more categorical groups by testing for differences of means using variance.\n",
    "\n",
    "* It is done between two multivariable values ie - may be of differnet datatypes\n"
   ]
  },
  {
   "cell_type": "code",
   "execution_count": 7,
   "id": "005d2b8d",
   "metadata": {
    "execution": {
     "iopub.execute_input": "2022-11-10T12:35:03.341944Z",
     "iopub.status.busy": "2022-11-10T12:35:03.341634Z",
     "iopub.status.idle": "2022-11-10T12:35:03.346399Z",
     "shell.execute_reply": "2022-11-10T12:35:03.345497Z"
    },
    "papermill": {
     "duration": 0.016715,
     "end_time": "2022-11-10T12:35:03.348174",
     "exception": false,
     "start_time": "2022-11-10T12:35:03.331459",
     "status": "completed"
    },
    "tags": []
   },
   "outputs": [],
   "source": [
    "def find_unique(df,colmn):\n",
    "    unique_values = df[colmn].unique()\n",
    "    len_unique_values=len(unique_values)\n",
    "    print(f\"total numbers of unique variables :{len_unique_values}\")\n",
    "    return unique_values "
   ]
  },
  {
   "cell_type": "code",
   "execution_count": 8,
   "id": "fa8e5b83",
   "metadata": {
    "execution": {
     "iopub.execute_input": "2022-11-10T12:35:03.369303Z",
     "iopub.status.busy": "2022-11-10T12:35:03.368014Z",
     "iopub.status.idle": "2022-11-10T12:35:03.374545Z",
     "shell.execute_reply": "2022-11-10T12:35:03.372892Z"
    },
    "papermill": {
     "duration": 0.018192,
     "end_time": "2022-11-10T12:35:03.376915",
     "exception": false,
     "start_time": "2022-11-10T12:35:03.358723",
     "status": "completed"
    },
    "tags": []
   },
   "outputs": [],
   "source": [
    "def find_numeric_values_of_a_column(df,colmn,numeric_value):\n",
    "    unique_values=find_unique(df,colmn)\n",
    "    new_dataset=pd.DataFrame({i:list(df[df[colmn]==i][numeric_value]) for i in unique_values})\n",
    "#     print(new_dataset)\n",
    "    return new_dataset"
   ]
  },
  {
   "cell_type": "code",
   "execution_count": 9,
   "id": "ac3f84c2",
   "metadata": {
    "execution": {
     "iopub.execute_input": "2022-11-10T12:35:03.394039Z",
     "iopub.status.busy": "2022-11-10T12:35:03.393717Z",
     "iopub.status.idle": "2022-11-10T12:35:03.400286Z",
     "shell.execute_reply": "2022-11-10T12:35:03.399404Z"
    },
    "papermill": {
     "duration": 0.017982,
     "end_time": "2022-11-10T12:35:03.402939",
     "exception": false,
     "start_time": "2022-11-10T12:35:03.384957",
     "status": "completed"
    },
    "tags": []
   },
   "outputs": [],
   "source": [
    "def anova_test(df,colmn,numeric_value,x1,x2,x3 ,alpha=0.05):\n",
    "    new_dataset=find_numeric_values_of_a_column(df,colmn,numeric_value)\n",
    "    print(stats.f_oneway(new_dataset[x1],new_dataset[x2],new_dataset[x3]))\n",
    "    \n",
    "    stat, p_value = stats.f_oneway(new_dataset[x1],new_dataset[x2],new_dataset[x3])\n",
    "\n",
    "    if p_value>alpha:\n",
    "        print(\"Same distribution ( accept H0 )\")\n",
    "    else:\n",
    "        print(\"Different distribution ( reject H0 )\")"
   ]
  },
  {
   "cell_type": "code",
   "execution_count": 10,
   "id": "7e60fbe4",
   "metadata": {
    "execution": {
     "iopub.execute_input": "2022-11-10T12:35:03.420886Z",
     "iopub.status.busy": "2022-11-10T12:35:03.420193Z",
     "iopub.status.idle": "2022-11-10T12:35:04.749547Z",
     "shell.execute_reply": "2022-11-10T12:35:04.748169Z"
    },
    "papermill": {
     "duration": 1.341033,
     "end_time": "2022-11-10T12:35:04.751916",
     "exception": false,
     "start_time": "2022-11-10T12:35:03.410883",
     "status": "completed"
    },
    "tags": []
   },
   "outputs": [
    {
     "data": {
      "text/html": [
       "<div>\n",
       "<style scoped>\n",
       "    .dataframe tbody tr th:only-of-type {\n",
       "        vertical-align: middle;\n",
       "    }\n",
       "\n",
       "    .dataframe tbody tr th {\n",
       "        vertical-align: top;\n",
       "    }\n",
       "\n",
       "    .dataframe thead th {\n",
       "        text-align: right;\n",
       "    }\n",
       "</style>\n",
       "<table border=\"1\" class=\"dataframe\">\n",
       "  <thead>\n",
       "    <tr style=\"text-align: right;\">\n",
       "      <th></th>\n",
       "      <th>sepal_length</th>\n",
       "      <th>sepal_width</th>\n",
       "      <th>petal_length</th>\n",
       "      <th>petal_width</th>\n",
       "      <th>species</th>\n",
       "    </tr>\n",
       "  </thead>\n",
       "  <tbody>\n",
       "    <tr>\n",
       "      <th>0</th>\n",
       "      <td>5.1</td>\n",
       "      <td>3.5</td>\n",
       "      <td>1.4</td>\n",
       "      <td>0.2</td>\n",
       "      <td>setosa</td>\n",
       "    </tr>\n",
       "    <tr>\n",
       "      <th>1</th>\n",
       "      <td>4.9</td>\n",
       "      <td>3.0</td>\n",
       "      <td>1.4</td>\n",
       "      <td>0.2</td>\n",
       "      <td>setosa</td>\n",
       "    </tr>\n",
       "    <tr>\n",
       "      <th>2</th>\n",
       "      <td>4.7</td>\n",
       "      <td>3.2</td>\n",
       "      <td>1.3</td>\n",
       "      <td>0.2</td>\n",
       "      <td>setosa</td>\n",
       "    </tr>\n",
       "    <tr>\n",
       "      <th>3</th>\n",
       "      <td>4.6</td>\n",
       "      <td>3.1</td>\n",
       "      <td>1.5</td>\n",
       "      <td>0.2</td>\n",
       "      <td>setosa</td>\n",
       "    </tr>\n",
       "    <tr>\n",
       "      <th>4</th>\n",
       "      <td>5.0</td>\n",
       "      <td>3.6</td>\n",
       "      <td>1.4</td>\n",
       "      <td>0.2</td>\n",
       "      <td>setosa</td>\n",
       "    </tr>\n",
       "    <tr>\n",
       "      <th>...</th>\n",
       "      <td>...</td>\n",
       "      <td>...</td>\n",
       "      <td>...</td>\n",
       "      <td>...</td>\n",
       "      <td>...</td>\n",
       "    </tr>\n",
       "    <tr>\n",
       "      <th>145</th>\n",
       "      <td>6.7</td>\n",
       "      <td>3.0</td>\n",
       "      <td>5.2</td>\n",
       "      <td>2.3</td>\n",
       "      <td>virginica</td>\n",
       "    </tr>\n",
       "    <tr>\n",
       "      <th>146</th>\n",
       "      <td>6.3</td>\n",
       "      <td>2.5</td>\n",
       "      <td>5.0</td>\n",
       "      <td>1.9</td>\n",
       "      <td>virginica</td>\n",
       "    </tr>\n",
       "    <tr>\n",
       "      <th>147</th>\n",
       "      <td>6.5</td>\n",
       "      <td>3.0</td>\n",
       "      <td>5.2</td>\n",
       "      <td>2.0</td>\n",
       "      <td>virginica</td>\n",
       "    </tr>\n",
       "    <tr>\n",
       "      <th>148</th>\n",
       "      <td>6.2</td>\n",
       "      <td>3.4</td>\n",
       "      <td>5.4</td>\n",
       "      <td>2.3</td>\n",
       "      <td>virginica</td>\n",
       "    </tr>\n",
       "    <tr>\n",
       "      <th>149</th>\n",
       "      <td>5.9</td>\n",
       "      <td>3.0</td>\n",
       "      <td>5.1</td>\n",
       "      <td>1.8</td>\n",
       "      <td>virginica</td>\n",
       "    </tr>\n",
       "  </tbody>\n",
       "</table>\n",
       "<p>150 rows × 5 columns</p>\n",
       "</div>"
      ],
      "text/plain": [
       "     sepal_length  sepal_width  petal_length  petal_width    species\n",
       "0             5.1          3.5           1.4          0.2     setosa\n",
       "1             4.9          3.0           1.4          0.2     setosa\n",
       "2             4.7          3.2           1.3          0.2     setosa\n",
       "3             4.6          3.1           1.5          0.2     setosa\n",
       "4             5.0          3.6           1.4          0.2     setosa\n",
       "..            ...          ...           ...          ...        ...\n",
       "145           6.7          3.0           5.2          2.3  virginica\n",
       "146           6.3          2.5           5.0          1.9  virginica\n",
       "147           6.5          3.0           5.2          2.0  virginica\n",
       "148           6.2          3.4           5.4          2.3  virginica\n",
       "149           5.9          3.0           5.1          1.8  virginica\n",
       "\n",
       "[150 rows x 5 columns]"
      ]
     },
     "execution_count": 10,
     "metadata": {},
     "output_type": "execute_result"
    }
   ],
   "source": [
    "iris=sns.load_dataset(\"iris\")\n",
    "iris"
   ]
  },
  {
   "cell_type": "code",
   "execution_count": 11,
   "id": "0e5f094c",
   "metadata": {
    "execution": {
     "iopub.execute_input": "2022-11-10T12:35:04.769787Z",
     "iopub.status.busy": "2022-11-10T12:35:04.769330Z",
     "iopub.status.idle": "2022-11-10T12:35:04.778273Z",
     "shell.execute_reply": "2022-11-10T12:35:04.776707Z"
    },
    "papermill": {
     "duration": 0.020881,
     "end_time": "2022-11-10T12:35:04.780866",
     "exception": false,
     "start_time": "2022-11-10T12:35:04.759985",
     "status": "completed"
    },
    "tags": []
   },
   "outputs": [
    {
     "name": "stdout",
     "output_type": "stream",
     "text": [
      "total numbers of unique variables :3\n"
     ]
    },
    {
     "data": {
      "text/plain": [
       "array(['setosa', 'versicolor', 'virginica'], dtype=object)"
      ]
     },
     "execution_count": 11,
     "metadata": {},
     "output_type": "execute_result"
    }
   ],
   "source": [
    "find_unique(iris,\"species\")"
   ]
  },
  {
   "cell_type": "code",
   "execution_count": 12,
   "id": "5454a00c",
   "metadata": {
    "execution": {
     "iopub.execute_input": "2022-11-10T12:35:04.800312Z",
     "iopub.status.busy": "2022-11-10T12:35:04.799584Z",
     "iopub.status.idle": "2022-11-10T12:35:04.822972Z",
     "shell.execute_reply": "2022-11-10T12:35:04.821326Z"
    },
    "papermill": {
     "duration": 0.03641,
     "end_time": "2022-11-10T12:35:04.825721",
     "exception": false,
     "start_time": "2022-11-10T12:35:04.789311",
     "status": "completed"
    },
    "tags": []
   },
   "outputs": [
    {
     "name": "stdout",
     "output_type": "stream",
     "text": [
      "total numbers of unique variables :3\n"
     ]
    },
    {
     "data": {
      "text/html": [
       "<div>\n",
       "<style scoped>\n",
       "    .dataframe tbody tr th:only-of-type {\n",
       "        vertical-align: middle;\n",
       "    }\n",
       "\n",
       "    .dataframe tbody tr th {\n",
       "        vertical-align: top;\n",
       "    }\n",
       "\n",
       "    .dataframe thead th {\n",
       "        text-align: right;\n",
       "    }\n",
       "</style>\n",
       "<table border=\"1\" class=\"dataframe\">\n",
       "  <thead>\n",
       "    <tr style=\"text-align: right;\">\n",
       "      <th></th>\n",
       "      <th>setosa</th>\n",
       "      <th>versicolor</th>\n",
       "      <th>virginica</th>\n",
       "    </tr>\n",
       "  </thead>\n",
       "  <tbody>\n",
       "    <tr>\n",
       "      <th>0</th>\n",
       "      <td>1.4</td>\n",
       "      <td>4.7</td>\n",
       "      <td>6.0</td>\n",
       "    </tr>\n",
       "    <tr>\n",
       "      <th>1</th>\n",
       "      <td>1.4</td>\n",
       "      <td>4.5</td>\n",
       "      <td>5.1</td>\n",
       "    </tr>\n",
       "    <tr>\n",
       "      <th>2</th>\n",
       "      <td>1.3</td>\n",
       "      <td>4.9</td>\n",
       "      <td>5.9</td>\n",
       "    </tr>\n",
       "    <tr>\n",
       "      <th>3</th>\n",
       "      <td>1.5</td>\n",
       "      <td>4.0</td>\n",
       "      <td>5.6</td>\n",
       "    </tr>\n",
       "    <tr>\n",
       "      <th>4</th>\n",
       "      <td>1.4</td>\n",
       "      <td>4.6</td>\n",
       "      <td>5.8</td>\n",
       "    </tr>\n",
       "    <tr>\n",
       "      <th>5</th>\n",
       "      <td>1.7</td>\n",
       "      <td>4.5</td>\n",
       "      <td>6.6</td>\n",
       "    </tr>\n",
       "    <tr>\n",
       "      <th>6</th>\n",
       "      <td>1.4</td>\n",
       "      <td>4.7</td>\n",
       "      <td>4.5</td>\n",
       "    </tr>\n",
       "    <tr>\n",
       "      <th>7</th>\n",
       "      <td>1.5</td>\n",
       "      <td>3.3</td>\n",
       "      <td>6.3</td>\n",
       "    </tr>\n",
       "    <tr>\n",
       "      <th>8</th>\n",
       "      <td>1.4</td>\n",
       "      <td>4.6</td>\n",
       "      <td>5.8</td>\n",
       "    </tr>\n",
       "    <tr>\n",
       "      <th>9</th>\n",
       "      <td>1.5</td>\n",
       "      <td>3.9</td>\n",
       "      <td>6.1</td>\n",
       "    </tr>\n",
       "    <tr>\n",
       "      <th>10</th>\n",
       "      <td>1.5</td>\n",
       "      <td>3.5</td>\n",
       "      <td>5.1</td>\n",
       "    </tr>\n",
       "    <tr>\n",
       "      <th>11</th>\n",
       "      <td>1.6</td>\n",
       "      <td>4.2</td>\n",
       "      <td>5.3</td>\n",
       "    </tr>\n",
       "    <tr>\n",
       "      <th>12</th>\n",
       "      <td>1.4</td>\n",
       "      <td>4.0</td>\n",
       "      <td>5.5</td>\n",
       "    </tr>\n",
       "    <tr>\n",
       "      <th>13</th>\n",
       "      <td>1.1</td>\n",
       "      <td>4.7</td>\n",
       "      <td>5.0</td>\n",
       "    </tr>\n",
       "    <tr>\n",
       "      <th>14</th>\n",
       "      <td>1.2</td>\n",
       "      <td>3.6</td>\n",
       "      <td>5.1</td>\n",
       "    </tr>\n",
       "    <tr>\n",
       "      <th>15</th>\n",
       "      <td>1.5</td>\n",
       "      <td>4.4</td>\n",
       "      <td>5.3</td>\n",
       "    </tr>\n",
       "    <tr>\n",
       "      <th>16</th>\n",
       "      <td>1.3</td>\n",
       "      <td>4.5</td>\n",
       "      <td>5.5</td>\n",
       "    </tr>\n",
       "    <tr>\n",
       "      <th>17</th>\n",
       "      <td>1.4</td>\n",
       "      <td>4.1</td>\n",
       "      <td>6.7</td>\n",
       "    </tr>\n",
       "    <tr>\n",
       "      <th>18</th>\n",
       "      <td>1.7</td>\n",
       "      <td>4.5</td>\n",
       "      <td>6.9</td>\n",
       "    </tr>\n",
       "    <tr>\n",
       "      <th>19</th>\n",
       "      <td>1.5</td>\n",
       "      <td>3.9</td>\n",
       "      <td>5.0</td>\n",
       "    </tr>\n",
       "    <tr>\n",
       "      <th>20</th>\n",
       "      <td>1.7</td>\n",
       "      <td>4.8</td>\n",
       "      <td>5.7</td>\n",
       "    </tr>\n",
       "    <tr>\n",
       "      <th>21</th>\n",
       "      <td>1.5</td>\n",
       "      <td>4.0</td>\n",
       "      <td>4.9</td>\n",
       "    </tr>\n",
       "    <tr>\n",
       "      <th>22</th>\n",
       "      <td>1.0</td>\n",
       "      <td>4.9</td>\n",
       "      <td>6.7</td>\n",
       "    </tr>\n",
       "    <tr>\n",
       "      <th>23</th>\n",
       "      <td>1.7</td>\n",
       "      <td>4.7</td>\n",
       "      <td>4.9</td>\n",
       "    </tr>\n",
       "    <tr>\n",
       "      <th>24</th>\n",
       "      <td>1.9</td>\n",
       "      <td>4.3</td>\n",
       "      <td>5.7</td>\n",
       "    </tr>\n",
       "    <tr>\n",
       "      <th>25</th>\n",
       "      <td>1.6</td>\n",
       "      <td>4.4</td>\n",
       "      <td>6.0</td>\n",
       "    </tr>\n",
       "    <tr>\n",
       "      <th>26</th>\n",
       "      <td>1.6</td>\n",
       "      <td>4.8</td>\n",
       "      <td>4.8</td>\n",
       "    </tr>\n",
       "    <tr>\n",
       "      <th>27</th>\n",
       "      <td>1.5</td>\n",
       "      <td>5.0</td>\n",
       "      <td>4.9</td>\n",
       "    </tr>\n",
       "    <tr>\n",
       "      <th>28</th>\n",
       "      <td>1.4</td>\n",
       "      <td>4.5</td>\n",
       "      <td>5.6</td>\n",
       "    </tr>\n",
       "    <tr>\n",
       "      <th>29</th>\n",
       "      <td>1.6</td>\n",
       "      <td>3.5</td>\n",
       "      <td>5.8</td>\n",
       "    </tr>\n",
       "    <tr>\n",
       "      <th>30</th>\n",
       "      <td>1.6</td>\n",
       "      <td>3.8</td>\n",
       "      <td>6.1</td>\n",
       "    </tr>\n",
       "    <tr>\n",
       "      <th>31</th>\n",
       "      <td>1.5</td>\n",
       "      <td>3.7</td>\n",
       "      <td>6.4</td>\n",
       "    </tr>\n",
       "    <tr>\n",
       "      <th>32</th>\n",
       "      <td>1.5</td>\n",
       "      <td>3.9</td>\n",
       "      <td>5.6</td>\n",
       "    </tr>\n",
       "    <tr>\n",
       "      <th>33</th>\n",
       "      <td>1.4</td>\n",
       "      <td>5.1</td>\n",
       "      <td>5.1</td>\n",
       "    </tr>\n",
       "    <tr>\n",
       "      <th>34</th>\n",
       "      <td>1.5</td>\n",
       "      <td>4.5</td>\n",
       "      <td>5.6</td>\n",
       "    </tr>\n",
       "    <tr>\n",
       "      <th>35</th>\n",
       "      <td>1.2</td>\n",
       "      <td>4.5</td>\n",
       "      <td>6.1</td>\n",
       "    </tr>\n",
       "    <tr>\n",
       "      <th>36</th>\n",
       "      <td>1.3</td>\n",
       "      <td>4.7</td>\n",
       "      <td>5.6</td>\n",
       "    </tr>\n",
       "    <tr>\n",
       "      <th>37</th>\n",
       "      <td>1.4</td>\n",
       "      <td>4.4</td>\n",
       "      <td>5.5</td>\n",
       "    </tr>\n",
       "    <tr>\n",
       "      <th>38</th>\n",
       "      <td>1.3</td>\n",
       "      <td>4.1</td>\n",
       "      <td>4.8</td>\n",
       "    </tr>\n",
       "    <tr>\n",
       "      <th>39</th>\n",
       "      <td>1.5</td>\n",
       "      <td>4.0</td>\n",
       "      <td>5.4</td>\n",
       "    </tr>\n",
       "    <tr>\n",
       "      <th>40</th>\n",
       "      <td>1.3</td>\n",
       "      <td>4.4</td>\n",
       "      <td>5.6</td>\n",
       "    </tr>\n",
       "    <tr>\n",
       "      <th>41</th>\n",
       "      <td>1.3</td>\n",
       "      <td>4.6</td>\n",
       "      <td>5.1</td>\n",
       "    </tr>\n",
       "    <tr>\n",
       "      <th>42</th>\n",
       "      <td>1.3</td>\n",
       "      <td>4.0</td>\n",
       "      <td>5.1</td>\n",
       "    </tr>\n",
       "    <tr>\n",
       "      <th>43</th>\n",
       "      <td>1.6</td>\n",
       "      <td>3.3</td>\n",
       "      <td>5.9</td>\n",
       "    </tr>\n",
       "    <tr>\n",
       "      <th>44</th>\n",
       "      <td>1.9</td>\n",
       "      <td>4.2</td>\n",
       "      <td>5.7</td>\n",
       "    </tr>\n",
       "    <tr>\n",
       "      <th>45</th>\n",
       "      <td>1.4</td>\n",
       "      <td>4.2</td>\n",
       "      <td>5.2</td>\n",
       "    </tr>\n",
       "    <tr>\n",
       "      <th>46</th>\n",
       "      <td>1.6</td>\n",
       "      <td>4.2</td>\n",
       "      <td>5.0</td>\n",
       "    </tr>\n",
       "    <tr>\n",
       "      <th>47</th>\n",
       "      <td>1.4</td>\n",
       "      <td>4.3</td>\n",
       "      <td>5.2</td>\n",
       "    </tr>\n",
       "    <tr>\n",
       "      <th>48</th>\n",
       "      <td>1.5</td>\n",
       "      <td>3.0</td>\n",
       "      <td>5.4</td>\n",
       "    </tr>\n",
       "    <tr>\n",
       "      <th>49</th>\n",
       "      <td>1.4</td>\n",
       "      <td>4.1</td>\n",
       "      <td>5.1</td>\n",
       "    </tr>\n",
       "  </tbody>\n",
       "</table>\n",
       "</div>"
      ],
      "text/plain": [
       "    setosa  versicolor  virginica\n",
       "0      1.4         4.7        6.0\n",
       "1      1.4         4.5        5.1\n",
       "2      1.3         4.9        5.9\n",
       "3      1.5         4.0        5.6\n",
       "4      1.4         4.6        5.8\n",
       "5      1.7         4.5        6.6\n",
       "6      1.4         4.7        4.5\n",
       "7      1.5         3.3        6.3\n",
       "8      1.4         4.6        5.8\n",
       "9      1.5         3.9        6.1\n",
       "10     1.5         3.5        5.1\n",
       "11     1.6         4.2        5.3\n",
       "12     1.4         4.0        5.5\n",
       "13     1.1         4.7        5.0\n",
       "14     1.2         3.6        5.1\n",
       "15     1.5         4.4        5.3\n",
       "16     1.3         4.5        5.5\n",
       "17     1.4         4.1        6.7\n",
       "18     1.7         4.5        6.9\n",
       "19     1.5         3.9        5.0\n",
       "20     1.7         4.8        5.7\n",
       "21     1.5         4.0        4.9\n",
       "22     1.0         4.9        6.7\n",
       "23     1.7         4.7        4.9\n",
       "24     1.9         4.3        5.7\n",
       "25     1.6         4.4        6.0\n",
       "26     1.6         4.8        4.8\n",
       "27     1.5         5.0        4.9\n",
       "28     1.4         4.5        5.6\n",
       "29     1.6         3.5        5.8\n",
       "30     1.6         3.8        6.1\n",
       "31     1.5         3.7        6.4\n",
       "32     1.5         3.9        5.6\n",
       "33     1.4         5.1        5.1\n",
       "34     1.5         4.5        5.6\n",
       "35     1.2         4.5        6.1\n",
       "36     1.3         4.7        5.6\n",
       "37     1.4         4.4        5.5\n",
       "38     1.3         4.1        4.8\n",
       "39     1.5         4.0        5.4\n",
       "40     1.3         4.4        5.6\n",
       "41     1.3         4.6        5.1\n",
       "42     1.3         4.0        5.1\n",
       "43     1.6         3.3        5.9\n",
       "44     1.9         4.2        5.7\n",
       "45     1.4         4.2        5.2\n",
       "46     1.6         4.2        5.0\n",
       "47     1.4         4.3        5.2\n",
       "48     1.5         3.0        5.4\n",
       "49     1.4         4.1        5.1"
      ]
     },
     "execution_count": 12,
     "metadata": {},
     "output_type": "execute_result"
    }
   ],
   "source": [
    "find_numeric_values_of_a_column(iris,\"species\",\"petal_length\")"
   ]
  },
  {
   "cell_type": "code",
   "execution_count": 13,
   "id": "b8c4396d",
   "metadata": {
    "execution": {
     "iopub.execute_input": "2022-11-10T12:35:04.844814Z",
     "iopub.status.busy": "2022-11-10T12:35:04.844462Z",
     "iopub.status.idle": "2022-11-10T12:35:04.853675Z",
     "shell.execute_reply": "2022-11-10T12:35:04.852448Z"
    },
    "papermill": {
     "duration": 0.021713,
     "end_time": "2022-11-10T12:35:04.856086",
     "exception": false,
     "start_time": "2022-11-10T12:35:04.834373",
     "status": "completed"
    },
    "tags": []
   },
   "outputs": [
    {
     "name": "stdout",
     "output_type": "stream",
     "text": [
      "total numbers of unique variables :3\n",
      "F_onewayResult(statistic=1180.161182252981, pvalue=2.8567766109615584e-91)\n",
      "Different distribution ( reject H0 )\n"
     ]
    }
   ],
   "source": [
    "anova_test(iris,\"species\",\"petal_length\",'setosa', 'versicolor', 'virginica' ,alpha=0.05)"
   ]
  },
  {
   "cell_type": "markdown",
   "id": "223455c1",
   "metadata": {
    "papermill": {
     "duration": 0.009195,
     "end_time": "2022-11-10T12:35:04.874670",
     "exception": false,
     "start_time": "2022-11-10T12:35:04.865475",
     "status": "completed"
    },
    "tags": []
   },
   "source": [
    "Conclusion :-\n",
    "<br>\n",
    "* When reporting the results of an anova, include a brief description of the variables you tested,degrees of freedom and p-values for each independent variable, and explain what the results mean.\n",
    "<br>\n",
    "* it can perticularly mention to reject or to accept the null hypothesis."
   ]
  },
  {
   "cell_type": "markdown",
   "id": "2ac37e99",
   "metadata": {
    "papermill": {
     "duration": 0.008542,
     "end_time": "2022-11-10T12:35:04.892085",
     "exception": false,
     "start_time": "2022-11-10T12:35:04.883543",
     "status": "completed"
    },
    "tags": []
   },
   "source": [
    "# 3. Chi Square-Test"
   ]
  },
  {
   "cell_type": "markdown",
   "id": "18c4206c",
   "metadata": {
    "papermill": {
     "duration": 0.008169,
     "end_time": "2022-11-10T12:35:04.908802",
     "exception": false,
     "start_time": "2022-11-10T12:35:04.900633",
     "status": "completed"
    },
    "tags": []
   },
   "source": [
    "* A Chi-square test, also called Pearson Chi-square test as is a statistical test used to compare observed results with expected results. \n",
    "\n",
    "* The purpose of this test is to determine if a difference between observed data and expected data is due to chance, or if it is due to a relationship between the variables you are studying.\n",
    "\n",
    "* It deals with correlation between the categorical variables by analyzing the relationship between the observed and expected values.\n",
    "\n",
    "* The Chi-square test is intended to test how likely it is that an observed distribution is due to chance."
   ]
  },
  {
   "cell_type": "code",
   "execution_count": 14,
   "id": "80e6aaf8",
   "metadata": {
    "execution": {
     "iopub.execute_input": "2022-11-10T12:35:04.928123Z",
     "iopub.status.busy": "2022-11-10T12:35:04.927820Z",
     "iopub.status.idle": "2022-11-10T12:35:04.936120Z",
     "shell.execute_reply": "2022-11-10T12:35:04.935068Z"
    },
    "papermill": {
     "duration": 0.020727,
     "end_time": "2022-11-10T12:35:04.938296",
     "exception": false,
     "start_time": "2022-11-10T12:35:04.917569",
     "status": "completed"
    },
    "tags": []
   },
   "outputs": [],
   "source": [
    "def chi_square_test(df1,colmn1,colmn2,std):\n",
    "    observed_values_table = pd.crosstab(df1[colmn1], df1[colmn2])\n",
    "    print(f\"Actual value \\n{observed_values_table}\")\n",
    "    print()\n",
    "    expected_values = stats.chi2_contingency(observed_values_table)[3]\n",
    "    print(f\"Expected value \\n{expected_values}\")\n",
    "    print()\n",
    "    [(o-e)**2 for o,e in zip(observed_values_table.values, expected_values )]\n",
    "    chi_square_statistics = np.sum(sum([((o-e)**2)/e for o,e in zip(observed_values_table.values, expected_values )]))\n",
    "    print(f\"chi square statistics \\n{chi_square_statistics}\")\n",
    "    print()\n",
    "    output=std - stats.chi2.cdf(chi_square_statistics, df = std)\n",
    "    print(f\"final output \\n{output}\")\n",
    "    print()\n",
    "\n",
    "    if (std)>output>(-std):\n",
    "        print(\"Same distribution ( accept H0 )\")\n",
    "    else:\n",
    "        print(\"Different distribution ( reject H0 )\")"
   ]
  },
  {
   "cell_type": "code",
   "execution_count": 15,
   "id": "9ba2b967",
   "metadata": {
    "execution": {
     "iopub.execute_input": "2022-11-10T12:35:04.957190Z",
     "iopub.status.busy": "2022-11-10T12:35:04.956275Z",
     "iopub.status.idle": "2022-11-10T12:35:06.398348Z",
     "shell.execute_reply": "2022-11-10T12:35:06.396870Z"
    },
    "papermill": {
     "duration": 1.454125,
     "end_time": "2022-11-10T12:35:06.400815",
     "exception": false,
     "start_time": "2022-11-10T12:35:04.946690",
     "status": "completed"
    },
    "tags": []
   },
   "outputs": [],
   "source": [
    "tips=sns.load_dataset(\"tips\")"
   ]
  },
  {
   "cell_type": "code",
   "execution_count": 16,
   "id": "f93062ae",
   "metadata": {
    "execution": {
     "iopub.execute_input": "2022-11-10T12:35:06.420855Z",
     "iopub.status.busy": "2022-11-10T12:35:06.420322Z",
     "iopub.status.idle": "2022-11-10T12:35:06.449165Z",
     "shell.execute_reply": "2022-11-10T12:35:06.448153Z"
    },
    "papermill": {
     "duration": 0.041738,
     "end_time": "2022-11-10T12:35:06.451687",
     "exception": false,
     "start_time": "2022-11-10T12:35:06.409949",
     "status": "completed"
    },
    "tags": []
   },
   "outputs": [
    {
     "name": "stdout",
     "output_type": "stream",
     "text": [
      "Actual value \n",
      "smoker  Yes  No\n",
      "sex            \n",
      "Male     60  97\n",
      "Female   33  54\n",
      "\n",
      "Expected value \n",
      "[[59.84016393 97.15983607]\n",
      " [33.15983607 53.84016393]]\n",
      "\n",
      "chi square statistics \n",
      "0.001934818536627623\n",
      "\n",
      "final output \n",
      "0.964915107315732\n",
      "\n",
      "Same distribution ( accept H0 )\n"
     ]
    }
   ],
   "source": [
    "chi_square_test(tips,\"sex\",\"smoker\",1)"
   ]
  },
  {
   "cell_type": "markdown",
   "id": "2743422f",
   "metadata": {
    "papermill": {
     "duration": 0.00921,
     "end_time": "2022-11-10T12:35:06.469767",
     "exception": false,
     "start_time": "2022-11-10T12:35:06.460557",
     "status": "completed"
    },
    "tags": []
   },
   "source": [
    "Conclusion :-\n",
    "\n",
    "* The p value obtained from chi-square test for independence is significant (p < 0.05). \n",
    "\n",
    "* Therefore, we conclude that there is a significant association between treatments (treated and nontreated) with treatment outcome (cured and noncured)."
   ]
  },
  {
   "cell_type": "markdown",
   "id": "05b0ddd2",
   "metadata": {
    "papermill": {
     "duration": 0.008504,
     "end_time": "2022-11-10T12:35:06.487652",
     "exception": false,
     "start_time": "2022-11-10T12:35:06.479148",
     "status": "completed"
    },
    "tags": []
   },
   "source": [
    "# 4. Z-test"
   ]
  },
  {
   "cell_type": "markdown",
   "id": "e1cbc782",
   "metadata": {
    "papermill": {
     "duration": 0.008458,
     "end_time": "2022-11-10T12:35:06.504934",
     "exception": false,
     "start_time": "2022-11-10T12:35:06.496476",
     "status": "completed"
    },
    "tags": []
   },
   "source": [
    "* A Z-test is used to determine if the difference between the mean of a sample and the mean of a population \n",
    "<br>\n",
    "is statistically significant.\n",
    "<br>\n",
    "* It checks if the means of two large samples are different or not when the population variance is known.\n",
    "* It checks if the means of two large samples are different or not when the population variance is known.In this function we calculate pvalue using functions of statistics and compare it with alpha ,if pvalue is less than alpha then null hypothesis is rejected else accepted (Where alpha is the probability of rejecting null hypothesis. which in standard considered as 0.05)"
   ]
  },
  {
   "cell_type": "code",
   "execution_count": 17,
   "id": "5b496be0",
   "metadata": {
    "execution": {
     "iopub.execute_input": "2022-11-10T12:35:06.525463Z",
     "iopub.status.busy": "2022-11-10T12:35:06.524832Z",
     "iopub.status.idle": "2022-11-10T12:35:06.530055Z",
     "shell.execute_reply": "2022-11-10T12:35:06.528768Z"
    },
    "papermill": {
     "duration": 0.018664,
     "end_time": "2022-11-10T12:35:06.532409",
     "exception": false,
     "start_time": "2022-11-10T12:35:06.513745",
     "status": "completed"
    },
    "tags": []
   },
   "outputs": [],
   "source": [
    "def z_test_for_1_sample(data,valuex ,alpha=0.05):\n",
    "    print (ztest(data, value=valuex))\n",
    "    stat, p_value =ztest(data, value=valuex)\n",
    "    if p_value>alpha:\n",
    "        print(\"Same distribution ( accept H0 )\")\n",
    "    else:\n",
    "        print(\"Different distribution ( reject H0 )\")"
   ]
  },
  {
   "cell_type": "code",
   "execution_count": 18,
   "id": "acde4926",
   "metadata": {
    "execution": {
     "iopub.execute_input": "2022-11-10T12:35:06.551748Z",
     "iopub.status.busy": "2022-11-10T12:35:06.551373Z",
     "iopub.status.idle": "2022-11-10T12:35:06.559439Z",
     "shell.execute_reply": "2022-11-10T12:35:06.557800Z"
    },
    "papermill": {
     "duration": 0.020912,
     "end_time": "2022-11-10T12:35:06.562052",
     "exception": false,
     "start_time": "2022-11-10T12:35:06.541140",
     "status": "completed"
    },
    "tags": []
   },
   "outputs": [],
   "source": [
    "def z_test_for_2_sample(data1,data2,valuex ,alpha=0.05):\n",
    "    print (ztest(data1,data2, value=valuex))\n",
    "    stat, p_value =ztest(data1,data2, value=valuex)\n",
    "    if p_value>alpha:\n",
    "        print(\"Same distribution ( accept H0 )\")\n",
    "    else:\n",
    "        print(\"Different distribution ( reject H0 )\")"
   ]
  },
  {
   "cell_type": "code",
   "execution_count": 19,
   "id": "93d9fade",
   "metadata": {
    "execution": {
     "iopub.execute_input": "2022-11-10T12:35:06.581499Z",
     "iopub.status.busy": "2022-11-10T12:35:06.581137Z",
     "iopub.status.idle": "2022-11-10T12:35:06.587709Z",
     "shell.execute_reply": "2022-11-10T12:35:06.586665Z"
    },
    "papermill": {
     "duration": 0.019059,
     "end_time": "2022-11-10T12:35:06.590000",
     "exception": false,
     "start_time": "2022-11-10T12:35:06.570941",
     "status": "completed"
    },
    "tags": []
   },
   "outputs": [],
   "source": [
    "cityA = [82, 84, 85, 89, 91, 91, 92, 94, 99, 99,\n",
    "         105, 109, 109, 109, 110, 112, 112, 113, 114, 114]\n",
    "\n",
    "cityB = [90, 91, 91, 91, 95, 95, 99, 99, 108, 109,\n",
    "         109, 114, 115, 116, 117, 117, 128, 129, 130, 133]\n",
    "\n",
    "data = [88, 92, 94, 94, 96, 97, 97, 97, 99, 99,\n",
    "        105, 109, 109, 109, 110, 112, 112, 113, 114, 115]"
   ]
  },
  {
   "cell_type": "code",
   "execution_count": 20,
   "id": "a4aaf6cf",
   "metadata": {
    "execution": {
     "iopub.execute_input": "2022-11-10T12:35:06.609437Z",
     "iopub.status.busy": "2022-11-10T12:35:06.608910Z",
     "iopub.status.idle": "2022-11-10T12:35:06.614585Z",
     "shell.execute_reply": "2022-11-10T12:35:06.613481Z"
    },
    "papermill": {
     "duration": 0.018715,
     "end_time": "2022-11-10T12:35:06.617551",
     "exception": false,
     "start_time": "2022-11-10T12:35:06.598836",
     "status": "completed"
    },
    "tags": []
   },
   "outputs": [
    {
     "name": "stdout",
     "output_type": "stream",
     "text": [
      "(1.5976240527147705, 0.1101266701438426)\n",
      "Same distribution ( accept H0 )\n"
     ]
    }
   ],
   "source": [
    "z_test_for_1_sample(data,100)"
   ]
  },
  {
   "cell_type": "code",
   "execution_count": 21,
   "id": "5f11ddfc",
   "metadata": {
    "execution": {
     "iopub.execute_input": "2022-11-10T12:35:06.636646Z",
     "iopub.status.busy": "2022-11-10T12:35:06.636301Z",
     "iopub.status.idle": "2022-11-10T12:35:06.641856Z",
     "shell.execute_reply": "2022-11-10T12:35:06.640550Z"
    },
    "papermill": {
     "duration": 0.017676,
     "end_time": "2022-11-10T12:35:06.644026",
     "exception": false,
     "start_time": "2022-11-10T12:35:06.626350",
     "status": "completed"
    },
    "tags": []
   },
   "outputs": [
    {
     "name": "stdout",
     "output_type": "stream",
     "text": [
      "(-1.9953236073282115, 0.046007596761332065)\n",
      "Different distribution ( reject H0 )\n"
     ]
    }
   ],
   "source": [
    "z_test_for_2_sample(cityA,cityB,0)"
   ]
  },
  {
   "cell_type": "markdown",
   "id": "f0b6c9c7",
   "metadata": {
    "papermill": {
     "duration": 0.009297,
     "end_time": "2022-11-10T12:35:06.662889",
     "exception": false,
     "start_time": "2022-11-10T12:35:06.653592",
     "status": "completed"
    },
    "tags": []
   },
   "source": [
    "Conclusion :-\n",
    "<br>\n",
    "* If the pvalue is more than alpha (0.05) then null hypotheiss is accepted\n",
    "<br>\n",
    "* If the statistics is between standard deviation than null hypotheiss is accepted"
   ]
  }
 ],
 "metadata": {
  "kernelspec": {
   "display_name": "Python 3",
   "language": "python",
   "name": "python3"
  },
  "language_info": {
   "codemirror_mode": {
    "name": "ipython",
    "version": 3
   },
   "file_extension": ".py",
   "mimetype": "text/x-python",
   "name": "python",
   "nbconvert_exporter": "python",
   "pygments_lexer": "ipython3",
   "version": "3.7.12"
  },
  "papermill": {
   "default_parameters": {},
   "duration": 14.098475,
   "end_time": "2022-11-10T12:35:07.394922",
   "environment_variables": {},
   "exception": null,
   "input_path": "__notebook__.ipynb",
   "output_path": "__notebook__.ipynb",
   "parameters": {},
   "start_time": "2022-11-10T12:34:53.296447",
   "version": "2.3.4"
  }
 },
 "nbformat": 4,
 "nbformat_minor": 5
}
